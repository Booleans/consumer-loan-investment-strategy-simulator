{
 "cells": [
  {
   "cell_type": "code",
   "execution_count": 2,
   "metadata": {},
   "outputs": [],
   "source": [
    "import multiprocessing as mp\n",
    "import numpy as np\n",
    "from numpy_financial import irr\n",
    "import pickle\n",
    "import boto3\n",
    "import pandas as pd\n",
    "from io import BytesIO"
   ]
  },
  {
   "cell_type": "code",
   "execution_count": 9,
   "metadata": {},
   "outputs": [],
   "source": [
    "def read_pickle_from_s3(filename, bucket='loan-analysis-data'):\n",
    "    s3 = boto3.client('s3')\n",
    "    obj = s3.get_object(Bucket=bucket, Key=filename)\n",
    "    data = obj['Body'].read()\n",
    "    f = BytesIO(data)\n",
    "    file = pickle.load(f)\n",
    "    return file"
   ]
  },
  {
   "cell_type": "code",
   "execution_count": 21,
   "metadata": {},
   "outputs": [],
   "source": [
    "def read_dataframe_from_s3(filename, bucket='loan-analysis-data'):\n",
    "    s3 = boto3.client('s3')\n",
    "    obj = s3.get_object(Bucket=bucket, Key=filename)\n",
    "    data = obj['Body'].read()\n",
    "    f = BytesIO(data)\n",
    "    df = pd.read_pickle(f, compression='bz2') \n",
    "    return df"
   ]
  },
  {
   "cell_type": "code",
   "execution_count": 18,
   "metadata": {},
   "outputs": [],
   "source": [
    "loan_amounts = read_pickle_from_s3('loan_amounts.pickle')"
   ]
  },
  {
   "cell_type": "code",
   "execution_count": 19,
   "metadata": {},
   "outputs": [],
   "source": [
    "training_loan_ids = read_pickle_from_s3('training_loan_ids.pickle')"
   ]
  },
  {
   "cell_type": "code",
   "execution_count": 22,
   "metadata": {},
   "outputs": [
    {
     "data": {
      "text/html": [
       "<div>\n",
       "<style scoped>\n",
       "    .dataframe tbody tr th:only-of-type {\n",
       "        vertical-align: middle;\n",
       "    }\n",
       "\n",
       "    .dataframe tbody tr th {\n",
       "        vertical-align: top;\n",
       "    }\n",
       "\n",
       "    .dataframe thead th {\n",
       "        text-align: right;\n",
       "    }\n",
       "</style>\n",
       "<table border=\"1\" class=\"dataframe\">\n",
       "  <thead>\n",
       "    <tr style=\"text-align: right;\">\n",
       "      <th></th>\n",
       "      <th></th>\n",
       "      <th>IssuedDate</th>\n",
       "      <th>RECEIVED_AMT_INVESTORS</th>\n",
       "      <th>PBAL_END_PERIOD_INVESTORS</th>\n",
       "      <th>mths_since_issue</th>\n",
       "    </tr>\n",
       "    <tr>\n",
       "      <th>RECEIVED_D</th>\n",
       "      <th>LOAN_ID</th>\n",
       "      <th></th>\n",
       "      <th></th>\n",
       "      <th></th>\n",
       "      <th></th>\n",
       "    </tr>\n",
       "  </thead>\n",
       "  <tbody>\n",
       "    <tr>\n",
       "      <th rowspan=\"5\" valign=\"top\">2010-02-01</th>\n",
       "      <th>395561</th>\n",
       "      <td>2010-01-01</td>\n",
       "      <td>849.835388</td>\n",
       "      <td>22141.585938</td>\n",
       "      <td>1</td>\n",
       "    </tr>\n",
       "    <tr>\n",
       "      <th>420666</th>\n",
       "      <td>2010-01-01</td>\n",
       "      <td>291.996674</td>\n",
       "      <td>8524.081055</td>\n",
       "      <td>1</td>\n",
       "    </tr>\n",
       "    <tr>\n",
       "      <th>462538</th>\n",
       "      <td>2010-01-01</td>\n",
       "      <td>662.189270</td>\n",
       "      <td>19144.474609</td>\n",
       "      <td>1</td>\n",
       "    </tr>\n",
       "    <tr>\n",
       "      <th>465492</th>\n",
       "      <td>2010-01-01</td>\n",
       "      <td>237.115005</td>\n",
       "      <td>6888.518555</td>\n",
       "      <td>1</td>\n",
       "    </tr>\n",
       "    <tr>\n",
       "      <th>466800</th>\n",
       "      <td>2010-01-01</td>\n",
       "      <td>417.496155</td>\n",
       "      <td>12306.734375</td>\n",
       "      <td>1</td>\n",
       "    </tr>\n",
       "  </tbody>\n",
       "</table>\n",
       "</div>"
      ],
      "text/plain": [
       "                   IssuedDate  RECEIVED_AMT_INVESTORS  \\\n",
       "RECEIVED_D LOAN_ID                                      \n",
       "2010-02-01 395561  2010-01-01              849.835388   \n",
       "           420666  2010-01-01              291.996674   \n",
       "           462538  2010-01-01              662.189270   \n",
       "           465492  2010-01-01              237.115005   \n",
       "           466800  2010-01-01              417.496155   \n",
       "\n",
       "                    PBAL_END_PERIOD_INVESTORS  mths_since_issue  \n",
       "RECEIVED_D LOAN_ID                                               \n",
       "2010-02-01 395561                22141.585938                 1  \n",
       "           420666                 8524.081055                 1  \n",
       "           462538                19144.474609                 1  \n",
       "           465492                 6888.518555                 1  \n",
       "           466800                12306.734375                 1  "
      ]
     },
     "execution_count": 22,
     "metadata": {},
     "output_type": "execute_result"
    }
   ],
   "source": [
    "df_payments = read_dataframe_from_s3('df_payments_training_loans.pkl.bz2')\n",
    "df_payments.head()"
   ]
  },
  {
   "cell_type": "code",
   "execution_count": 23,
   "metadata": {},
   "outputs": [],
   "source": [
    "def get_one_loan_payment_data(df_payments, loan_id):\n",
    "    '''\n",
    "    Function to extract payments made by a single loan ID. \n",
    "\n",
    "    Args:\n",
    "        payments_training_loans (dataframe): The dataframe containing all loan payments data for our training loans.\n",
    "            Only training loans are relevant since ROI needs to be calculated as our label to use in model training.\n",
    "        loan_id (int): The loan ID that we want to get payments for.\n",
    "\n",
    "    Returns:\n",
    "        DataFrame: Returns a dataframe containing payment history for a single loan.\n",
    "\n",
    "    Todo: Add in description of the format the payments_training_loans dataframe should be in.\n",
    "    '''\n",
    "    try:\n",
    "        # Loan ID must be passed in as a list to ensure we get a dataframe back and not a series.\n",
    "        # Otherwise a series is returned when we have a loan where only 1 payment has been made.\n",
    "        return df_payments.loc[pd.IndexSlice[:, loan_id], ['RECEIVED_AMT_INVESTORS', 'mths_since_issue']]\n",
    "    except:\n",
    "        # Need to return an empty dataframe if no payments were found for the given loan_id.\n",
    "        return pd.DataFrame()"
   ]
  },
  {
   "cell_type": "code",
   "execution_count": 26,
   "metadata": {},
   "outputs": [],
   "source": [
    "def convert_monthly_return_to_annual(irr):\n",
    "    return (1 + irr)**12 - 1    "
   ]
  },
  {
   "cell_type": "code",
   "execution_count": 27,
   "metadata": {},
   "outputs": [],
   "source": [
    "def get_roi_for_loan_id(loan_id):\n",
    "    starting_loan_balance = loan_amounts[loan_id]\n",
    "    loan_payments = get_one_loan_payment_data(df_payments, loan_id)\n",
    "    if len(loan_payments) == 0:\n",
    "        return -100\n",
    "    max_months = loan_payments['mths_since_issue'].max()\n",
    "    payments = np.zeros(max_months+1)\n",
    "    payments[0] = -starting_loan_balance\n",
    "    for payment, month in zip(loan_payments['RECEIVED_AMT_INVESTORS'], loan_payments['mths_since_issue']):\n",
    "        payments[month] += payment\n",
    "    irr_monthly = irr(payments)\n",
    "    irr_annual = convert_monthly_return_to_annual(irr_monthly)\n",
    "    return 100 * irr_annual"
   ]
  },
  {
   "cell_type": "code",
   "execution_count": 29,
   "metadata": {},
   "outputs": [
    {
     "data": {
      "text/plain": [
       "8.209543086516513"
      ]
     },
     "execution_count": 29,
     "metadata": {},
     "output_type": "execute_result"
    }
   ],
   "source": [
    "get_roi_for_loan_id(466800)"
   ]
  },
  {
   "cell_type": "code",
   "execution_count": 6,
   "metadata": {},
   "outputs": [],
   "source": [
    "num_cpus = mp.cpu_count()\n",
    "pool = mp.Pool(processes=num_cpus)"
   ]
  },
  {
   "cell_type": "code",
   "execution_count": null,
   "metadata": {},
   "outputs": [],
   "source": [
    "results = pool.map(get_roi_for_loan_id, list(training_loan_ids)[:1000])"
   ]
  },
  {
   "cell_type": "code",
   "execution_count": null,
   "metadata": {},
   "outputs": [],
   "source": [
    "loan_rois = dict(zip(list(training_loan_ids)[:1000], results))"
   ]
  },
  {
   "cell_type": "code",
   "execution_count": 8,
   "metadata": {},
   "outputs": [
    {
     "data": {
      "text/plain": [
       "{'ResponseMetadata': {'RequestId': 'DC9FFA4B5188EB0C',\n",
       "  'HostId': 'rtXDKJp6pVw/0susCMORaQqXeStJRKSHjMn/h6zY38J47kWKaidoJinWnymTsNEV71AdlwwWjxk=',\n",
       "  'HTTPStatusCode': 200,\n",
       "  'HTTPHeaders': {'x-amz-id-2': 'rtXDKJp6pVw/0susCMORaQqXeStJRKSHjMn/h6zY38J47kWKaidoJinWnymTsNEV71AdlwwWjxk=',\n",
       "   'x-amz-request-id': 'DC9FFA4B5188EB0C',\n",
       "   'date': 'Thu, 13 Aug 2020 16:26:37 GMT',\n",
       "   'etag': '\"05a161cece359adefaedea21340765eb\"',\n",
       "   'content-length': '0',\n",
       "   'server': 'AmazonS3'},\n",
       "  'RetryAttempts': 0},\n",
       " 'ETag': '\"05a161cece359adefaedea21340765eb\"'}"
      ]
     },
     "execution_count": 8,
     "metadata": {},
     "output_type": "execute_result"
    }
   ],
   "source": [
    "bucket = 'loan-analysis-data'\n",
    "key = 'loan_rois.pickle'\n",
    "pickle_byte_obj = pickle.dumps(loan_rois) \n",
    "s3_resource = boto3.resource('s3')\n",
    "s3_resource.Object(bucket, key).put(Body=pickle_byte_obj)"
   ]
  },
  {
   "cell_type": "code",
   "execution_count": 12,
   "metadata": {},
   "outputs": [
    {
     "data": {
      "text/plain": [
       "[{'StoppingInstances': [{'CurrentState': {'Code': 80, 'Name': 'stopped'},\n",
       "    'InstanceId': 'i-05c63d902d7d04e7b',\n",
       "    'PreviousState': {'Code': 80, 'Name': 'stopped'}}],\n",
       "  'ResponseMetadata': {'RequestId': '7bf106fc-9e43-435b-a9d4-54a4416c73a0',\n",
       "   'HTTPStatusCode': 200,\n",
       "   'HTTPHeaders': {'x-amzn-requestid': '7bf106fc-9e43-435b-a9d4-54a4416c73a0',\n",
       "    'content-type': 'text/xml;charset=UTF-8',\n",
       "    'content-length': '578',\n",
       "    'date': 'Thu, 13 Aug 2020 16:28:20 GMT',\n",
       "    'server': 'AmazonEC2'},\n",
       "   'RetryAttempts': 0}}]"
      ]
     },
     "execution_count": 12,
     "metadata": {},
     "output_type": "execute_result"
    }
   ],
   "source": [
    "ec2 = boto3.resource('ec2')\n",
    "loan_instance = ['i-05c63d902d7d04e7b']\n",
    "ec2.instances.filter(InstanceIds=loan_instance).stop()"
   ]
  },
  {
   "cell_type": "code",
   "execution_count": null,
   "metadata": {},
   "outputs": [],
   "source": []
  }
 ],
 "metadata": {
  "kernelspec": {
   "display_name": "Python 3",
   "language": "python",
   "name": "python3"
  },
  "language_info": {
   "codemirror_mode": {
    "name": "ipython",
    "version": 3
   },
   "file_extension": ".py",
   "mimetype": "text/x-python",
   "name": "python",
   "nbconvert_exporter": "python",
   "pygments_lexer": "ipython3",
   "version": "3.7.7"
  }
 },
 "nbformat": 4,
 "nbformat_minor": 4
}

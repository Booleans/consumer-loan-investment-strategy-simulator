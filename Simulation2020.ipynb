{
 "cells": [
  {
   "cell_type": "markdown",
   "metadata": {},
   "source": [
    "# Portfolio Simulator\n",
    "\n",
    "When training machine learning models it is essential to perform cross validation to ensure we're not overfitting. To that end, I have constructed a portfolio simulator to test our models on loans they have not seen before.\n",
    "\n",
    "The portfolio simulator works as follows: {UPDATE}\n",
    "\n",
    "The necessary classes and functions are contained in the `src/portfolio.py` file."
   ]
  },
  {
   "cell_type": "code",
   "execution_count": 1,
   "metadata": {},
   "outputs": [],
   "source": [
    "import pandas as pd\n",
    "import numpy as np\n",
    "import datetime\n",
    "from src.portfolio import *"
   ]
  },
  {
   "cell_type": "code",
   "execution_count": 2,
   "metadata": {},
   "outputs": [
    {
     "data": {
      "text/html": [
       "<div>\n",
       "<style scoped>\n",
       "    .dataframe tbody tr th:only-of-type {\n",
       "        vertical-align: middle;\n",
       "    }\n",
       "\n",
       "    .dataframe tbody tr th {\n",
       "        vertical-align: top;\n",
       "    }\n",
       "\n",
       "    .dataframe thead th {\n",
       "        text-align: right;\n",
       "    }\n",
       "</style>\n",
       "<table border=\"1\" class=\"dataframe\">\n",
       "  <thead>\n",
       "    <tr style=\"text-align: right;\">\n",
       "      <th></th>\n",
       "      <th></th>\n",
       "      <th>RECEIVED_AMT_INVESTORS</th>\n",
       "      <th>PBAL_END_PERIOD_INVESTORS</th>\n",
       "      <th>IssuedDate</th>\n",
       "      <th>mths_since_issue</th>\n",
       "    </tr>\n",
       "    <tr>\n",
       "      <th>RECEIVED_D</th>\n",
       "      <th>LOAN_ID</th>\n",
       "      <th></th>\n",
       "      <th></th>\n",
       "      <th></th>\n",
       "      <th></th>\n",
       "    </tr>\n",
       "  </thead>\n",
       "  <tbody>\n",
       "    <tr>\n",
       "      <th rowspan=\"5\" valign=\"top\">2020-08-01</th>\n",
       "      <th>169200115</th>\n",
       "      <td>840.020020</td>\n",
       "      <td>34773.839844</td>\n",
       "      <td>2020-06-01</td>\n",
       "      <td>2</td>\n",
       "    </tr>\n",
       "    <tr>\n",
       "      <th>169216811</th>\n",
       "      <td>217.649994</td>\n",
       "      <td>1819.479980</td>\n",
       "      <td>2020-06-01</td>\n",
       "      <td>2</td>\n",
       "    </tr>\n",
       "    <tr>\n",
       "      <th>169224081</th>\n",
       "      <td>652.979980</td>\n",
       "      <td>19557.210938</td>\n",
       "      <td>2020-06-01</td>\n",
       "      <td>2</td>\n",
       "    </tr>\n",
       "    <tr>\n",
       "      <th>169225459</th>\n",
       "      <td>1394.140015</td>\n",
       "      <td>1560.839966</td>\n",
       "      <td>2020-06-01</td>\n",
       "      <td>2</td>\n",
       "    </tr>\n",
       "    <tr>\n",
       "      <th>169232425</th>\n",
       "      <td>8095.520020</td>\n",
       "      <td>0.000000</td>\n",
       "      <td>2020-06-01</td>\n",
       "      <td>2</td>\n",
       "    </tr>\n",
       "  </tbody>\n",
       "</table>\n",
       "</div>"
      ],
      "text/plain": [
       "                      RECEIVED_AMT_INVESTORS  PBAL_END_PERIOD_INVESTORS  \\\n",
       "RECEIVED_D LOAN_ID                                                        \n",
       "2020-08-01 169200115              840.020020               34773.839844   \n",
       "           169216811              217.649994                1819.479980   \n",
       "           169224081              652.979980               19557.210938   \n",
       "           169225459             1394.140015                1560.839966   \n",
       "           169232425             8095.520020                   0.000000   \n",
       "\n",
       "                     IssuedDate  mths_since_issue  \n",
       "RECEIVED_D LOAN_ID                                 \n",
       "2020-08-01 169200115 2020-06-01                 2  \n",
       "           169216811 2020-06-01                 2  \n",
       "           169224081 2020-06-01                 2  \n",
       "           169225459 2020-06-01                 2  \n",
       "           169232425 2020-06-01                 2  "
      ]
     },
     "execution_count": 2,
     "metadata": {},
     "output_type": "execute_result"
    }
   ],
   "source": [
    "payments = pd.read_pickle('data/df_payments_cleaned_all.pkl.bz2', compression='bz2')\n",
    "payments.tail()"
   ]
  },
  {
   "cell_type": "markdown",
   "metadata": {},
   "source": [
    "Next let's read in the predictions that are trained models have already made for the loans in the testing set."
   ]
  },
  {
   "cell_type": "code",
   "execution_count": 3,
   "metadata": {},
   "outputs": [],
   "source": [
    "predictions_xgb = pd.read_pickle('data/model_xgb_predictions.pkl.bz2')\n",
    "predictions_random = pd.read_pickle('data/model_random_pick.pkl.bz2')\n",
    "predictions_high_interest = pd.read_pickle('data/model_high_interest_rate.pkl.bz2')\n",
    "predictions_low_interest = pd.read_pickle('data/model_low_interest_rate.pkl.bz2')"
   ]
  },
  {
   "cell_type": "code",
   "execution_count": null,
   "metadata": {},
   "outputs": [],
   "source": [
    "min_rois = np.linspace(5, 11, num = 51)\n",
    "rois = []\n",
    "balances = []\n",
    "\n",
    "for roi in min_rois:\n",
    "\n",
    "    myPortfolio = Portfolio(20000, 25, datetime.date(2017,8,1), predictions_xgb, payments, min_roi=roi)\n",
    "    while myPortfolio.date < datetime.date(2020,7,1):\n",
    "        myPortfolio.simulate_month()\n",
    "    rois.append(roi)\n",
    "    balances.append(myPortfolio.total_balance)"
   ]
  },
  {
   "cell_type": "code",
   "execution_count": null,
   "metadata": {},
   "outputs": [],
   "source": []
  }
 ],
 "metadata": {
  "kernelspec": {
   "display_name": "Python 3",
   "language": "python",
   "name": "python3"
  },
  "language_info": {
   "codemirror_mode": {
    "name": "ipython",
    "version": 3
   },
   "file_extension": ".py",
   "mimetype": "text/x-python",
   "name": "python",
   "nbconvert_exporter": "python",
   "pygments_lexer": "ipython3",
   "version": "3.6.12"
  }
 },
 "nbformat": 4,
 "nbformat_minor": 4
}

{
 "cells": [
  {
   "cell_type": "code",
   "execution_count": 26,
   "metadata": {},
   "outputs": [],
   "source": [
    "import pandas as pd\n",
    "import numpy as np\n",
    "from numpy_financial import irr"
   ]
  },
  {
   "cell_type": "code",
   "execution_count": 4,
   "metadata": {},
   "outputs": [
    {
     "data": {
      "text/html": [
       "<div>\n",
       "<style scoped>\n",
       "    .dataframe tbody tr th:only-of-type {\n",
       "        vertical-align: middle;\n",
       "    }\n",
       "\n",
       "    .dataframe tbody tr th {\n",
       "        vertical-align: top;\n",
       "    }\n",
       "\n",
       "    .dataframe thead th {\n",
       "        text-align: right;\n",
       "    }\n",
       "</style>\n",
       "<table border=\"1\" class=\"dataframe\">\n",
       "  <thead>\n",
       "    <tr style=\"text-align: right;\">\n",
       "      <th></th>\n",
       "      <th>LOAN_ID</th>\n",
       "      <th>RECEIVED_D</th>\n",
       "      <th>RECEIVED_AMT_INVESTORS</th>\n",
       "      <th>PBAL_END_PERIOD_INVESTORS</th>\n",
       "      <th>IssuedDate</th>\n",
       "    </tr>\n",
       "  </thead>\n",
       "  <tbody>\n",
       "    <tr>\n",
       "      <th>0</th>\n",
       "      <td>54734</td>\n",
       "      <td>SEP2009</td>\n",
       "      <td>632.771017</td>\n",
       "      <td>18636.409300</td>\n",
       "      <td>AUG2009</td>\n",
       "    </tr>\n",
       "    <tr>\n",
       "      <th>1</th>\n",
       "      <td>54734</td>\n",
       "      <td>OCT2009</td>\n",
       "      <td>632.771017</td>\n",
       "      <td>18188.363925</td>\n",
       "      <td>AUG2009</td>\n",
       "    </tr>\n",
       "    <tr>\n",
       "      <th>2</th>\n",
       "      <td>54734</td>\n",
       "      <td>NOV2009</td>\n",
       "      <td>632.771017</td>\n",
       "      <td>17735.877487</td>\n",
       "      <td>AUG2009</td>\n",
       "    </tr>\n",
       "    <tr>\n",
       "      <th>3</th>\n",
       "      <td>54734</td>\n",
       "      <td>DEC2009</td>\n",
       "      <td>632.771017</td>\n",
       "      <td>17278.905966</td>\n",
       "      <td>AUG2009</td>\n",
       "    </tr>\n",
       "    <tr>\n",
       "      <th>4</th>\n",
       "      <td>54734</td>\n",
       "      <td>JAN2010</td>\n",
       "      <td>632.771017</td>\n",
       "      <td>16817.404904</td>\n",
       "      <td>AUG2009</td>\n",
       "    </tr>\n",
       "  </tbody>\n",
       "</table>\n",
       "</div>"
      ],
      "text/plain": [
       "   LOAN_ID RECEIVED_D  RECEIVED_AMT_INVESTORS  PBAL_END_PERIOD_INVESTORS  \\\n",
       "0    54734    SEP2009              632.771017               18636.409300   \n",
       "1    54734    OCT2009              632.771017               18188.363925   \n",
       "2    54734    NOV2009              632.771017               17735.877487   \n",
       "3    54734    DEC2009              632.771017               17278.905966   \n",
       "4    54734    JAN2010              632.771017               16817.404904   \n",
       "\n",
       "  IssuedDate  \n",
       "0    AUG2009  \n",
       "1    AUG2009  \n",
       "2    AUG2009  \n",
       "3    AUG2009  \n",
       "4    AUG2009  "
      ]
     },
     "execution_count": 4,
     "metadata": {},
     "output_type": "execute_result"
    }
   ],
   "source": [
    "payment_cols = ('LOAN_ID', 'IssuedDate', 'RECEIVED_D', 'RECEIVED_AMT_INVESTORS', 'PBAL_END_PERIOD_INVESTORS')\n",
    "df_payments_1 = pd.read_csv('data/Payments_Made_to_Investors_File1of2_2020_08.csv', low_memory=False,  nrows=None, usecols=payment_cols)\n",
    "df_payments_1.head()"
   ]
  },
  {
   "cell_type": "code",
   "execution_count": 5,
   "metadata": {},
   "outputs": [
    {
     "data": {
      "text/html": [
       "<div>\n",
       "<style scoped>\n",
       "    .dataframe tbody tr th:only-of-type {\n",
       "        vertical-align: middle;\n",
       "    }\n",
       "\n",
       "    .dataframe tbody tr th {\n",
       "        vertical-align: top;\n",
       "    }\n",
       "\n",
       "    .dataframe thead th {\n",
       "        text-align: right;\n",
       "    }\n",
       "</style>\n",
       "<table border=\"1\" class=\"dataframe\">\n",
       "  <thead>\n",
       "    <tr style=\"text-align: right;\">\n",
       "      <th></th>\n",
       "      <th>0</th>\n",
       "      <th>1</th>\n",
       "      <th>11</th>\n",
       "      <th>12</th>\n",
       "      <th>16</th>\n",
       "    </tr>\n",
       "  </thead>\n",
       "  <tbody>\n",
       "    <tr>\n",
       "      <th>0</th>\n",
       "      <td>90721450</td>\n",
       "      <td>JUN2018</td>\n",
       "      <td>37.94</td>\n",
       "      <td>571.313680</td>\n",
       "      <td>OCT2016</td>\n",
       "    </tr>\n",
       "    <tr>\n",
       "      <th>1</th>\n",
       "      <td>90721450</td>\n",
       "      <td>JUL2018</td>\n",
       "      <td>37.94</td>\n",
       "      <td>537.463334</td>\n",
       "      <td>OCT2016</td>\n",
       "    </tr>\n",
       "    <tr>\n",
       "      <th>2</th>\n",
       "      <td>90721450</td>\n",
       "      <td>AUG2018</td>\n",
       "      <td>37.94</td>\n",
       "      <td>503.370676</td>\n",
       "      <td>OCT2016</td>\n",
       "    </tr>\n",
       "    <tr>\n",
       "      <th>3</th>\n",
       "      <td>90721450</td>\n",
       "      <td>SEP2018</td>\n",
       "      <td>37.94</td>\n",
       "      <td>469.033971</td>\n",
       "      <td>OCT2016</td>\n",
       "    </tr>\n",
       "    <tr>\n",
       "      <th>4</th>\n",
       "      <td>90721450</td>\n",
       "      <td>OCT2018</td>\n",
       "      <td>37.94</td>\n",
       "      <td>434.451472</td>\n",
       "      <td>OCT2016</td>\n",
       "    </tr>\n",
       "  </tbody>\n",
       "</table>\n",
       "</div>"
      ],
      "text/plain": [
       "         0        1      11          12       16\n",
       "0  90721450  JUN2018  37.94  571.313680  OCT2016\n",
       "1  90721450  JUL2018  37.94  537.463334  OCT2016\n",
       "2  90721450  AUG2018  37.94  503.370676  OCT2016\n",
       "3  90721450  SEP2018  37.94  469.033971  OCT2016\n",
       "4  90721450  OCT2018  37.94  434.451472  OCT2016"
      ]
     },
     "execution_count": 5,
     "metadata": {},
     "output_type": "execute_result"
    }
   ],
   "source": [
    "df_payments_2 = pd.read_csv('data/Payments_Made_to_Investors_File2of2_2020_08.csv', low_memory=False, skiprows=1, header=None, nrows=None, usecols=[0, 1, 11, 12, 16])\n",
    "df_payments_2.head()"
   ]
  },
  {
   "cell_type": "code",
   "execution_count": 6,
   "metadata": {},
   "outputs": [],
   "source": [
    "df_payments_2.columns = df_payments_1.columns\n",
    "df_combined = pd.concat([df_payments_1, df_payments_2])"
   ]
  },
  {
   "cell_type": "code",
   "execution_count": 7,
   "metadata": {},
   "outputs": [
    {
     "data": {
      "text/html": [
       "<div>\n",
       "<style scoped>\n",
       "    .dataframe tbody tr th:only-of-type {\n",
       "        vertical-align: middle;\n",
       "    }\n",
       "\n",
       "    .dataframe tbody tr th {\n",
       "        vertical-align: top;\n",
       "    }\n",
       "\n",
       "    .dataframe thead th {\n",
       "        text-align: right;\n",
       "    }\n",
       "</style>\n",
       "<table border=\"1\" class=\"dataframe\">\n",
       "  <thead>\n",
       "    <tr style=\"text-align: right;\">\n",
       "      <th></th>\n",
       "      <th>LOAN_ID</th>\n",
       "      <th>RECEIVED_D</th>\n",
       "      <th>RECEIVED_AMT_INVESTORS</th>\n",
       "      <th>PBAL_END_PERIOD_INVESTORS</th>\n",
       "      <th>IssuedDate</th>\n",
       "    </tr>\n",
       "  </thead>\n",
       "  <tbody>\n",
       "    <tr>\n",
       "      <th>0</th>\n",
       "      <td>54734</td>\n",
       "      <td>SEP2009</td>\n",
       "      <td>632.771017</td>\n",
       "      <td>18636.409300</td>\n",
       "      <td>AUG2009</td>\n",
       "    </tr>\n",
       "    <tr>\n",
       "      <th>1</th>\n",
       "      <td>54734</td>\n",
       "      <td>OCT2009</td>\n",
       "      <td>632.771017</td>\n",
       "      <td>18188.363925</td>\n",
       "      <td>AUG2009</td>\n",
       "    </tr>\n",
       "    <tr>\n",
       "      <th>2</th>\n",
       "      <td>54734</td>\n",
       "      <td>NOV2009</td>\n",
       "      <td>632.771017</td>\n",
       "      <td>17735.877487</td>\n",
       "      <td>AUG2009</td>\n",
       "    </tr>\n",
       "    <tr>\n",
       "      <th>3</th>\n",
       "      <td>54734</td>\n",
       "      <td>DEC2009</td>\n",
       "      <td>632.771017</td>\n",
       "      <td>17278.905966</td>\n",
       "      <td>AUG2009</td>\n",
       "    </tr>\n",
       "    <tr>\n",
       "      <th>4</th>\n",
       "      <td>54734</td>\n",
       "      <td>JAN2010</td>\n",
       "      <td>632.771017</td>\n",
       "      <td>16817.404904</td>\n",
       "      <td>AUG2009</td>\n",
       "    </tr>\n",
       "  </tbody>\n",
       "</table>\n",
       "</div>"
      ],
      "text/plain": [
       "   LOAN_ID RECEIVED_D  RECEIVED_AMT_INVESTORS  PBAL_END_PERIOD_INVESTORS  \\\n",
       "0    54734    SEP2009              632.771017               18636.409300   \n",
       "1    54734    OCT2009              632.771017               18188.363925   \n",
       "2    54734    NOV2009              632.771017               17735.877487   \n",
       "3    54734    DEC2009              632.771017               17278.905966   \n",
       "4    54734    JAN2010              632.771017               16817.404904   \n",
       "\n",
       "  IssuedDate  \n",
       "0    AUG2009  \n",
       "1    AUG2009  \n",
       "2    AUG2009  \n",
       "3    AUG2009  \n",
       "4    AUG2009  "
      ]
     },
     "execution_count": 7,
     "metadata": {},
     "output_type": "execute_result"
    }
   ],
   "source": [
    "df_combined.head()"
   ]
  },
  {
   "cell_type": "code",
   "execution_count": 8,
   "metadata": {},
   "outputs": [
    {
     "name": "stdout",
     "output_type": "stream",
     "text": [
      "<class 'pandas.core.frame.DataFrame'>\n",
      "Int64Index: 61820100 entries, 0 to 28703915\n",
      "Data columns (total 5 columns):\n",
      " #   Column                     Dtype  \n",
      "---  ------                     -----  \n",
      " 0   LOAN_ID                    int64  \n",
      " 1   RECEIVED_D                 object \n",
      " 2   RECEIVED_AMT_INVESTORS     float64\n",
      " 3   PBAL_END_PERIOD_INVESTORS  float64\n",
      " 4   IssuedDate                 object \n",
      "dtypes: float64(2), int64(1), object(2)\n",
      "memory usage: 2.8+ GB\n"
     ]
    }
   ],
   "source": [
    "df_combined.info()"
   ]
  },
  {
   "cell_type": "code",
   "execution_count": 2,
   "metadata": {},
   "outputs": [],
   "source": [
    "df = pd.read_pickle('data/df_payments_cleaned_training.pkl.bz2', compression='bz2')"
   ]
  },
  {
   "cell_type": "code",
   "execution_count": 3,
   "metadata": {},
   "outputs": [],
   "source": [
    "df.to_pickle('data/df_payments_training_loans.pkl.bz2', compression='bz2', protocol=4)"
   ]
  },
  {
   "cell_type": "code",
   "execution_count": 1,
   "metadata": {},
   "outputs": [],
   "source": [
    "def get_one_loan_payment_data(df_payments, loan_id):\n",
    "    '''\n",
    "    Function to extract payments made by a single loan ID. \n",
    "\n",
    "    Args:\n",
    "        payments_training_loans (dataframe): The dataframe containing all loan payments data for our training loans.\n",
    "            Only training loans are relevant since ROI needs to be calculated as our label to use in model training.\n",
    "        loan_id (int): The loan ID that we want to get payments for.\n",
    "\n",
    "    Returns:\n",
    "        DataFrame: Returns a dataframe containing payment history for a single loan.\n",
    "\n",
    "    Todo: Add in description of the format the payments_training_loans dataframe should be in.\n",
    "    '''\n",
    "    try:\n",
    "        # Loan ID must be passed in as a list to ensure we get a dataframe back and not a series.\n",
    "        # Otherwise a series is returned when we have a loan where only 1 payment has been made.\n",
    "        return df_payments.loc[pd.IndexSlice[:, loan_id], ['RECEIVED_AMT_INVESTORS', 'mths_since_issue']]\n",
    "    except:\n",
    "        # Need to return an empty dataframe if no payments were found for the given loan_id.\n",
    "        return pd.DataFrame()\n",
    "\n",
    "def convert_monthly_return_to_annual(irr):\n",
    "    return (1 + irr)**12 - 1    \n",
    "\n",
    "def get_roi_for_loan_id(loan_id):\n",
    "    starting_loan_balance = loan_amounts[loan_id]\n",
    "    loan_payments = get_one_loan_payment_data(df_payments, loan_id)\n",
    "    if len(loan_payments) == 0:\n",
    "        return -100\n",
    "    max_months = loan_payments['mths_since_issue'].max()\n",
    "    payments = np.zeros(max_months+1)\n",
    "    payments[0] = -starting_loan_balance\n",
    "    for payment, month in zip(loan_payments['RECEIVED_AMT_INVESTORS'], loan_payments['mths_since_issue']):\n",
    "        payments[month] += payment\n",
    "    irr_monthly = irr(payments)\n",
    "    irr_annual = convert_monthly_return_to_annual(irr_monthly)\n",
    "    return 100 * irr_annual"
   ]
  },
  {
   "cell_type": "code",
   "execution_count": 42,
   "metadata": {},
   "outputs": [],
   "source": [
    "import pickle \n",
    "\n",
    "with open('data/loan_amounts.pickle', 'rb') as handle:\n",
    "    loan_amounts = pickle.load(handle)\n",
    "    \n",
    "with open('data/training_loan_ids.pickle', 'rb') as handle:\n",
    "    training_loan_ids = pickle.load(handle)\n",
    "    \n",
    "with open('data/loan_rois.pickle', 'rb') as handle:\n",
    "    loan_rois = pickle.load(handle)"
   ]
  },
  {
   "cell_type": "code",
   "execution_count": 6,
   "metadata": {},
   "outputs": [
    {
     "data": {
      "text/plain": [
       "1097123"
      ]
     },
     "execution_count": 6,
     "metadata": {},
     "output_type": "execute_result"
    }
   ],
   "source": [
    "len(training_loan_ids)"
   ]
  },
  {
   "cell_type": "code",
   "execution_count": 10,
   "metadata": {},
   "outputs": [
    {
     "data": {
      "text/html": [
       "<div>\n",
       "<style scoped>\n",
       "    .dataframe tbody tr th:only-of-type {\n",
       "        vertical-align: middle;\n",
       "    }\n",
       "\n",
       "    .dataframe tbody tr th {\n",
       "        vertical-align: top;\n",
       "    }\n",
       "\n",
       "    .dataframe thead th {\n",
       "        text-align: right;\n",
       "    }\n",
       "</style>\n",
       "<table border=\"1\" class=\"dataframe\">\n",
       "  <thead>\n",
       "    <tr style=\"text-align: right;\">\n",
       "      <th></th>\n",
       "      <th></th>\n",
       "      <th>RECEIVED_AMT_INVESTORS</th>\n",
       "      <th>mths_since_issue</th>\n",
       "    </tr>\n",
       "    <tr>\n",
       "      <th>RECEIVED_D</th>\n",
       "      <th>LOAN_ID</th>\n",
       "      <th></th>\n",
       "      <th></th>\n",
       "    </tr>\n",
       "  </thead>\n",
       "  <tbody>\n",
       "    <tr>\n",
       "      <th>2016-08-01</th>\n",
       "      <th>88082393</th>\n",
       "      <td>15020.290039</td>\n",
       "      <td>0</td>\n",
       "    </tr>\n",
       "  </tbody>\n",
       "</table>\n",
       "</div>"
      ],
      "text/plain": [
       "                     RECEIVED_AMT_INVESTORS  mths_since_issue\n",
       "RECEIVED_D LOAN_ID                                           \n",
       "2016-08-01 88082393            15020.290039                 0"
      ]
     },
     "execution_count": 10,
     "metadata": {},
     "output_type": "execute_result"
    }
   ],
   "source": [
    "get_one_loan_payment_data(df_payments, 88082393)"
   ]
  },
  {
   "cell_type": "code",
   "execution_count": 80,
   "metadata": {},
   "outputs": [
    {
     "data": {
      "text/html": [
       "<div>\n",
       "<style scoped>\n",
       "    .dataframe tbody tr th:only-of-type {\n",
       "        vertical-align: middle;\n",
       "    }\n",
       "\n",
       "    .dataframe tbody tr th {\n",
       "        vertical-align: top;\n",
       "    }\n",
       "\n",
       "    .dataframe thead th {\n",
       "        text-align: right;\n",
       "    }\n",
       "</style>\n",
       "<table border=\"1\" class=\"dataframe\">\n",
       "  <thead>\n",
       "    <tr style=\"text-align: right;\">\n",
       "      <th></th>\n",
       "      <th></th>\n",
       "      <th>RECEIVED_AMT_INVESTORS</th>\n",
       "      <th>PBAL_END_PERIOD_INVESTORS</th>\n",
       "      <th>IssuedDate</th>\n",
       "      <th>mths_since_issue</th>\n",
       "    </tr>\n",
       "    <tr>\n",
       "      <th>RECEIVED_D</th>\n",
       "      <th>LOAN_ID</th>\n",
       "      <th></th>\n",
       "      <th></th>\n",
       "      <th></th>\n",
       "      <th></th>\n",
       "    </tr>\n",
       "  </thead>\n",
       "  <tbody>\n",
       "    <tr>\n",
       "      <th rowspan=\"5\" valign=\"top\">2007-07-01</th>\n",
       "      <th>72176</th>\n",
       "      <td>7.189307</td>\n",
       "      <td>219.559830</td>\n",
       "      <td>2007-06-01</td>\n",
       "      <td>1</td>\n",
       "    </tr>\n",
       "    <tr>\n",
       "      <th>73582</th>\n",
       "      <td>7.289357</td>\n",
       "      <td>219.637436</td>\n",
       "      <td>2007-06-01</td>\n",
       "      <td>1</td>\n",
       "    </tr>\n",
       "    <tr>\n",
       "      <th>74505</th>\n",
       "      <td>7.256250</td>\n",
       "      <td>219.611313</td>\n",
       "      <td>2007-06-01</td>\n",
       "      <td>1</td>\n",
       "    </tr>\n",
       "    <tr>\n",
       "      <th>77792</th>\n",
       "      <td>3.975833</td>\n",
       "      <td>121.962997</td>\n",
       "      <td>2007-06-01</td>\n",
       "      <td>1</td>\n",
       "    </tr>\n",
       "    <tr>\n",
       "      <th>81085</th>\n",
       "      <td>9.032310</td>\n",
       "      <td>268.539795</td>\n",
       "      <td>2007-06-01</td>\n",
       "      <td>1</td>\n",
       "    </tr>\n",
       "  </tbody>\n",
       "</table>\n",
       "</div>"
      ],
      "text/plain": [
       "                    RECEIVED_AMT_INVESTORS  PBAL_END_PERIOD_INVESTORS  \\\n",
       "RECEIVED_D LOAN_ID                                                      \n",
       "2007-07-01 72176                  7.189307                 219.559830   \n",
       "           73582                  7.289357                 219.637436   \n",
       "           74505                  7.256250                 219.611313   \n",
       "           77792                  3.975833                 121.962997   \n",
       "           81085                  9.032310                 268.539795   \n",
       "\n",
       "                   IssuedDate  mths_since_issue  \n",
       "RECEIVED_D LOAN_ID                               \n",
       "2007-07-01 72176   2007-06-01                 1  \n",
       "           73582   2007-06-01                 1  \n",
       "           74505   2007-06-01                 1  \n",
       "           77792   2007-06-01                 1  \n",
       "           81085   2007-06-01                 1  "
      ]
     },
     "execution_count": 80,
     "metadata": {},
     "output_type": "execute_result"
    }
   ],
   "source": [
    "df_payments = pd.read_pickle('data/df_payments_cleaned_all.pkl.bz2', compression='bz2')\n",
    "df_payments.head()"
   ]
  },
  {
   "cell_type": "code",
   "execution_count": 71,
   "metadata": {},
   "outputs": [
    {
     "data": {
      "text/plain": [
       "39346"
      ]
     },
     "execution_count": 71,
     "metadata": {},
     "output_type": "execute_result"
    }
   ],
   "source": [
    "loan_ids_need_updating = set(df_payments[df_payments['mths_since_issue'] == 0].index.get_level_values(1))\n",
    "len(loan_ids_need_updating)"
   ]
  },
  {
   "cell_type": "code",
   "execution_count": 20,
   "metadata": {},
   "outputs": [],
   "source": [
    "for loan_id in training_loan_ids:\n",
    "    if loan_id not in loan_rois:\n",
    "        loan_ids_need_updating.add(loan_id)"
   ]
  },
  {
   "cell_type": "code",
   "execution_count": 30,
   "metadata": {},
   "outputs": [
    {
     "data": {
      "text/plain": [
       "1.6353338544679241"
      ]
     },
     "execution_count": 30,
     "metadata": {},
     "output_type": "execute_result"
    }
   ],
   "source": [
    "get_roi_for_loan_id(88082393)"
   ]
  },
  {
   "cell_type": "code",
   "execution_count": 74,
   "metadata": {},
   "outputs": [
    {
     "data": {
      "text/plain": [
       "36080"
      ]
     },
     "execution_count": 74,
     "metadata": {},
     "output_type": "execute_result"
    }
   ],
   "source": [
    "current_updates = [loan for loan in loan_ids_need_updating if loan not in needs_updating]\n",
    "len(current_updates)"
   ]
  },
  {
   "cell_type": "code",
   "execution_count": 81,
   "metadata": {},
   "outputs": [
    {
     "data": {
      "text/plain": [
       "36080"
      ]
     },
     "execution_count": 81,
     "metadata": {},
     "output_type": "execute_result"
    }
   ],
   "source": [
    "len(current_updates)"
   ]
  },
  {
   "cell_type": "code",
   "execution_count": 83,
   "metadata": {},
   "outputs": [],
   "source": [
    "for loan_id in current_updates:\n",
    "    if loan_id in loan_amounts:\n",
    "        loan_rois[loan_id] = get_roi_for_loan_id(loan_id)"
   ]
  },
  {
   "cell_type": "code",
   "execution_count": 84,
   "metadata": {},
   "outputs": [],
   "source": [
    "with open('data/loan_rois_updated.pickle', 'wb') as handle:\n",
    "    pickle.dump(loan_rois, handle, protocol=pickle.HIGHEST_PROTOCOL)"
   ]
  },
  {
   "cell_type": "code",
   "execution_count": 77,
   "metadata": {},
   "outputs": [
    {
     "name": "stdout",
     "output_type": "stream",
     "text": [
      "Now update the loans not originally in the ROI dictionary.\n"
     ]
    }
   ],
   "source": [
    "print('Now update the loans not originally in the ROI dictionary.')"
   ]
  },
  {
   "cell_type": "code",
   "execution_count": 67,
   "metadata": {},
   "outputs": [
    {
     "data": {
      "text/plain": [
       "3266"
      ]
     },
     "execution_count": 67,
     "metadata": {},
     "output_type": "execute_result"
    }
   ],
   "source": [
    "needs_updating = []\n",
    "for k, v in loan_rois.items():\n",
    "    if math.isnan(v):\n",
    "        needs_updating.append(k)\n",
    "len(needs_updating)"
   ]
  },
  {
   "cell_type": "code",
   "execution_count": 78,
   "metadata": {},
   "outputs": [
    {
     "data": {
      "text/plain": [
       "24415"
      ]
     },
     "execution_count": 78,
     "metadata": {},
     "output_type": "execute_result"
    }
   ],
   "source": [
    "still_needed = [loan for loan in training_loan_ids if loan not in loan_rois and loan in loan_amounts]\n",
    "len(still_needed)"
   ]
  },
  {
   "cell_type": "code",
   "execution_count": 82,
   "metadata": {},
   "outputs": [
    {
     "data": {
      "text/plain": [
       "24415"
      ]
     },
     "execution_count": 82,
     "metadata": {},
     "output_type": "execute_result"
    }
   ],
   "source": [
    "len(still_needed)"
   ]
  },
  {
   "cell_type": "code",
   "execution_count": 85,
   "metadata": {},
   "outputs": [],
   "source": [
    "for loan_id in still_needed:\n",
    "    if loan_id in loan_amounts:\n",
    "        loan_rois[loan_id] = get_roi_for_loan_id(loan_id)"
   ]
  },
  {
   "cell_type": "code",
   "execution_count": 86,
   "metadata": {},
   "outputs": [],
   "source": [
    "with open('data/loan_rois_updated.pickle', 'wb') as handle:\n",
    "    pickle.dump(loan_rois, handle, protocol=pickle.HIGHEST_PROTOCOL)"
   ]
  },
  {
   "cell_type": "code",
   "execution_count": null,
   "metadata": {},
   "outputs": [],
   "source": [
    "training_loan_ids"
   ]
  }
 ],
 "metadata": {
  "kernelspec": {
   "display_name": "Python 3",
   "language": "python",
   "name": "python3"
  },
  "language_info": {
   "codemirror_mode": {
    "name": "ipython",
    "version": 3
   },
   "file_extension": ".py",
   "mimetype": "text/x-python",
   "name": "python",
   "nbconvert_exporter": "python",
   "pygments_lexer": "ipython3",
   "version": "3.8.5"
  }
 },
 "nbformat": 4,
 "nbformat_minor": 4
}

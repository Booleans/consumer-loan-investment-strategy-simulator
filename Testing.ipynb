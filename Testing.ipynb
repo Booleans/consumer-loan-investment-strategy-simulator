{
 "cells": [
  {
   "cell_type": "code",
   "execution_count": 1,
   "metadata": {},
   "outputs": [],
   "source": [
    "import pandas as pd"
   ]
  },
  {
   "cell_type": "code",
   "execution_count": 4,
   "metadata": {},
   "outputs": [
    {
     "data": {
      "text/html": [
       "<div>\n",
       "<style scoped>\n",
       "    .dataframe tbody tr th:only-of-type {\n",
       "        vertical-align: middle;\n",
       "    }\n",
       "\n",
       "    .dataframe tbody tr th {\n",
       "        vertical-align: top;\n",
       "    }\n",
       "\n",
       "    .dataframe thead th {\n",
       "        text-align: right;\n",
       "    }\n",
       "</style>\n",
       "<table border=\"1\" class=\"dataframe\">\n",
       "  <thead>\n",
       "    <tr style=\"text-align: right;\">\n",
       "      <th></th>\n",
       "      <th>LOAN_ID</th>\n",
       "      <th>RECEIVED_D</th>\n",
       "      <th>RECEIVED_AMT_INVESTORS</th>\n",
       "      <th>PBAL_END_PERIOD_INVESTORS</th>\n",
       "      <th>IssuedDate</th>\n",
       "    </tr>\n",
       "  </thead>\n",
       "  <tbody>\n",
       "    <tr>\n",
       "      <th>0</th>\n",
       "      <td>54734</td>\n",
       "      <td>SEP2009</td>\n",
       "      <td>632.771017</td>\n",
       "      <td>18636.409300</td>\n",
       "      <td>AUG2009</td>\n",
       "    </tr>\n",
       "    <tr>\n",
       "      <th>1</th>\n",
       "      <td>54734</td>\n",
       "      <td>OCT2009</td>\n",
       "      <td>632.771017</td>\n",
       "      <td>18188.363925</td>\n",
       "      <td>AUG2009</td>\n",
       "    </tr>\n",
       "    <tr>\n",
       "      <th>2</th>\n",
       "      <td>54734</td>\n",
       "      <td>NOV2009</td>\n",
       "      <td>632.771017</td>\n",
       "      <td>17735.877487</td>\n",
       "      <td>AUG2009</td>\n",
       "    </tr>\n",
       "    <tr>\n",
       "      <th>3</th>\n",
       "      <td>54734</td>\n",
       "      <td>DEC2009</td>\n",
       "      <td>632.771017</td>\n",
       "      <td>17278.905966</td>\n",
       "      <td>AUG2009</td>\n",
       "    </tr>\n",
       "    <tr>\n",
       "      <th>4</th>\n",
       "      <td>54734</td>\n",
       "      <td>JAN2010</td>\n",
       "      <td>632.771017</td>\n",
       "      <td>16817.404904</td>\n",
       "      <td>AUG2009</td>\n",
       "    </tr>\n",
       "  </tbody>\n",
       "</table>\n",
       "</div>"
      ],
      "text/plain": [
       "   LOAN_ID RECEIVED_D  RECEIVED_AMT_INVESTORS  PBAL_END_PERIOD_INVESTORS  \\\n",
       "0    54734    SEP2009              632.771017               18636.409300   \n",
       "1    54734    OCT2009              632.771017               18188.363925   \n",
       "2    54734    NOV2009              632.771017               17735.877487   \n",
       "3    54734    DEC2009              632.771017               17278.905966   \n",
       "4    54734    JAN2010              632.771017               16817.404904   \n",
       "\n",
       "  IssuedDate  \n",
       "0    AUG2009  \n",
       "1    AUG2009  \n",
       "2    AUG2009  \n",
       "3    AUG2009  \n",
       "4    AUG2009  "
      ]
     },
     "execution_count": 4,
     "metadata": {},
     "output_type": "execute_result"
    }
   ],
   "source": [
    "payment_cols = ('LOAN_ID', 'IssuedDate', 'RECEIVED_D', 'RECEIVED_AMT_INVESTORS', 'PBAL_END_PERIOD_INVESTORS')\n",
    "df_payments_1 = pd.read_csv('data/Payments_Made_to_Investors_File1of2_2020_08.csv', low_memory=False,  nrows=None, usecols=payment_cols)\n",
    "df_payments_1.head()"
   ]
  },
  {
   "cell_type": "code",
   "execution_count": 5,
   "metadata": {},
   "outputs": [
    {
     "data": {
      "text/html": [
       "<div>\n",
       "<style scoped>\n",
       "    .dataframe tbody tr th:only-of-type {\n",
       "        vertical-align: middle;\n",
       "    }\n",
       "\n",
       "    .dataframe tbody tr th {\n",
       "        vertical-align: top;\n",
       "    }\n",
       "\n",
       "    .dataframe thead th {\n",
       "        text-align: right;\n",
       "    }\n",
       "</style>\n",
       "<table border=\"1\" class=\"dataframe\">\n",
       "  <thead>\n",
       "    <tr style=\"text-align: right;\">\n",
       "      <th></th>\n",
       "      <th>0</th>\n",
       "      <th>1</th>\n",
       "      <th>11</th>\n",
       "      <th>12</th>\n",
       "      <th>16</th>\n",
       "    </tr>\n",
       "  </thead>\n",
       "  <tbody>\n",
       "    <tr>\n",
       "      <th>0</th>\n",
       "      <td>90721450</td>\n",
       "      <td>JUN2018</td>\n",
       "      <td>37.94</td>\n",
       "      <td>571.313680</td>\n",
       "      <td>OCT2016</td>\n",
       "    </tr>\n",
       "    <tr>\n",
       "      <th>1</th>\n",
       "      <td>90721450</td>\n",
       "      <td>JUL2018</td>\n",
       "      <td>37.94</td>\n",
       "      <td>537.463334</td>\n",
       "      <td>OCT2016</td>\n",
       "    </tr>\n",
       "    <tr>\n",
       "      <th>2</th>\n",
       "      <td>90721450</td>\n",
       "      <td>AUG2018</td>\n",
       "      <td>37.94</td>\n",
       "      <td>503.370676</td>\n",
       "      <td>OCT2016</td>\n",
       "    </tr>\n",
       "    <tr>\n",
       "      <th>3</th>\n",
       "      <td>90721450</td>\n",
       "      <td>SEP2018</td>\n",
       "      <td>37.94</td>\n",
       "      <td>469.033971</td>\n",
       "      <td>OCT2016</td>\n",
       "    </tr>\n",
       "    <tr>\n",
       "      <th>4</th>\n",
       "      <td>90721450</td>\n",
       "      <td>OCT2018</td>\n",
       "      <td>37.94</td>\n",
       "      <td>434.451472</td>\n",
       "      <td>OCT2016</td>\n",
       "    </tr>\n",
       "  </tbody>\n",
       "</table>\n",
       "</div>"
      ],
      "text/plain": [
       "         0        1      11          12       16\n",
       "0  90721450  JUN2018  37.94  571.313680  OCT2016\n",
       "1  90721450  JUL2018  37.94  537.463334  OCT2016\n",
       "2  90721450  AUG2018  37.94  503.370676  OCT2016\n",
       "3  90721450  SEP2018  37.94  469.033971  OCT2016\n",
       "4  90721450  OCT2018  37.94  434.451472  OCT2016"
      ]
     },
     "execution_count": 5,
     "metadata": {},
     "output_type": "execute_result"
    }
   ],
   "source": [
    "df_payments_2 = pd.read_csv('data/Payments_Made_to_Investors_File2of2_2020_08.csv', low_memory=False, skiprows=1, header=None, nrows=None, usecols=[0, 1, 11, 12, 16])\n",
    "df_payments_2.head()"
   ]
  },
  {
   "cell_type": "code",
   "execution_count": 6,
   "metadata": {},
   "outputs": [],
   "source": [
    "df_payments_2.columns = df_payments_1.columns\n",
    "df_combined = pd.concat([df_payments_1, df_payments_2])"
   ]
  },
  {
   "cell_type": "code",
   "execution_count": 7,
   "metadata": {},
   "outputs": [
    {
     "data": {
      "text/html": [
       "<div>\n",
       "<style scoped>\n",
       "    .dataframe tbody tr th:only-of-type {\n",
       "        vertical-align: middle;\n",
       "    }\n",
       "\n",
       "    .dataframe tbody tr th {\n",
       "        vertical-align: top;\n",
       "    }\n",
       "\n",
       "    .dataframe thead th {\n",
       "        text-align: right;\n",
       "    }\n",
       "</style>\n",
       "<table border=\"1\" class=\"dataframe\">\n",
       "  <thead>\n",
       "    <tr style=\"text-align: right;\">\n",
       "      <th></th>\n",
       "      <th>LOAN_ID</th>\n",
       "      <th>RECEIVED_D</th>\n",
       "      <th>RECEIVED_AMT_INVESTORS</th>\n",
       "      <th>PBAL_END_PERIOD_INVESTORS</th>\n",
       "      <th>IssuedDate</th>\n",
       "    </tr>\n",
       "  </thead>\n",
       "  <tbody>\n",
       "    <tr>\n",
       "      <th>0</th>\n",
       "      <td>54734</td>\n",
       "      <td>SEP2009</td>\n",
       "      <td>632.771017</td>\n",
       "      <td>18636.409300</td>\n",
       "      <td>AUG2009</td>\n",
       "    </tr>\n",
       "    <tr>\n",
       "      <th>1</th>\n",
       "      <td>54734</td>\n",
       "      <td>OCT2009</td>\n",
       "      <td>632.771017</td>\n",
       "      <td>18188.363925</td>\n",
       "      <td>AUG2009</td>\n",
       "    </tr>\n",
       "    <tr>\n",
       "      <th>2</th>\n",
       "      <td>54734</td>\n",
       "      <td>NOV2009</td>\n",
       "      <td>632.771017</td>\n",
       "      <td>17735.877487</td>\n",
       "      <td>AUG2009</td>\n",
       "    </tr>\n",
       "    <tr>\n",
       "      <th>3</th>\n",
       "      <td>54734</td>\n",
       "      <td>DEC2009</td>\n",
       "      <td>632.771017</td>\n",
       "      <td>17278.905966</td>\n",
       "      <td>AUG2009</td>\n",
       "    </tr>\n",
       "    <tr>\n",
       "      <th>4</th>\n",
       "      <td>54734</td>\n",
       "      <td>JAN2010</td>\n",
       "      <td>632.771017</td>\n",
       "      <td>16817.404904</td>\n",
       "      <td>AUG2009</td>\n",
       "    </tr>\n",
       "  </tbody>\n",
       "</table>\n",
       "</div>"
      ],
      "text/plain": [
       "   LOAN_ID RECEIVED_D  RECEIVED_AMT_INVESTORS  PBAL_END_PERIOD_INVESTORS  \\\n",
       "0    54734    SEP2009              632.771017               18636.409300   \n",
       "1    54734    OCT2009              632.771017               18188.363925   \n",
       "2    54734    NOV2009              632.771017               17735.877487   \n",
       "3    54734    DEC2009              632.771017               17278.905966   \n",
       "4    54734    JAN2010              632.771017               16817.404904   \n",
       "\n",
       "  IssuedDate  \n",
       "0    AUG2009  \n",
       "1    AUG2009  \n",
       "2    AUG2009  \n",
       "3    AUG2009  \n",
       "4    AUG2009  "
      ]
     },
     "execution_count": 7,
     "metadata": {},
     "output_type": "execute_result"
    }
   ],
   "source": [
    "df_combined.head()"
   ]
  },
  {
   "cell_type": "code",
   "execution_count": 8,
   "metadata": {},
   "outputs": [
    {
     "name": "stdout",
     "output_type": "stream",
     "text": [
      "<class 'pandas.core.frame.DataFrame'>\n",
      "Int64Index: 61820100 entries, 0 to 28703915\n",
      "Data columns (total 5 columns):\n",
      " #   Column                     Dtype  \n",
      "---  ------                     -----  \n",
      " 0   LOAN_ID                    int64  \n",
      " 1   RECEIVED_D                 object \n",
      " 2   RECEIVED_AMT_INVESTORS     float64\n",
      " 3   PBAL_END_PERIOD_INVESTORS  float64\n",
      " 4   IssuedDate                 object \n",
      "dtypes: float64(2), int64(1), object(2)\n",
      "memory usage: 2.8+ GB\n"
     ]
    }
   ],
   "source": [
    "df_combined.info()"
   ]
  },
  {
   "cell_type": "code",
   "execution_count": 2,
   "metadata": {},
   "outputs": [],
   "source": [
    "df = pd.read_pickle('data/df_payments_cleaned_training.pkl.bz2', compression='bz2')"
   ]
  },
  {
   "cell_type": "code",
   "execution_count": 3,
   "metadata": {},
   "outputs": [],
   "source": [
    "df.to_pickle('data/df_payments_training_loans.pkl.bz2', compression='bz2', protocol=4)"
   ]
  },
  {
   "cell_type": "code",
   "execution_count": null,
   "metadata": {},
   "outputs": [],
   "source": []
  }
 ],
 "metadata": {
  "kernelspec": {
   "display_name": "Python 3",
   "language": "python",
   "name": "python3"
  },
  "language_info": {
   "codemirror_mode": {
    "name": "ipython",
    "version": 3
   },
   "file_extension": ".py",
   "mimetype": "text/x-python",
   "name": "python",
   "nbconvert_exporter": "python",
   "pygments_lexer": "ipython3",
   "version": "3.8.5"
  }
 },
 "nbformat": 4,
 "nbformat_minor": 4
}
